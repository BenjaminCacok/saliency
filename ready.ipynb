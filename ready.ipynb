{
 "cells": [
  {
   "cell_type": "code",
   "execution_count": null,
   "metadata": {},
   "outputs": [],
   "source": [
    "import os\n",
    "import shutil\n",
    "\n",
    "source_dir = 'C:/Users/18336/Documents/SJTUTIS/saliency/map'\n",
    "target_dir = 'C:/Users/18336/Documents/SJTUTIS/ours/type1/maps'\n",
    "\n",
    "for filename in os.listdir(source_dir):\n",
    "    if ('_0' not in filename and '_1' not in filename\n",
    "            and '_2' not in filename and '_3' not in filename and filename.endswith('.png')):\n",
    "        source_file = os.path.join(source_dir, filename)\n",
    "        target_file = os.path.join(target_dir, filename)\n",
    "\n",
    "        shutil.copy2(source_file, target_file)"
   ]
  },
  {
   "cell_type": "code",
   "execution_count": null,
   "metadata": {},
   "outputs": [],
   "source": [
    "import pandas as pd\n",
    "import os\n",
    "\n",
    "map_dir = 'C:/Users/18336/Documents/SJTUTIS/ours/type1/maps'\n",
    "image_dir = 'C:/Users/18336/Documents/SJTUTIS/ours/type1/images'\n",
    "\n",
    "map_list = []\n",
    "image_list = []\n",
    "\n",
    "for map_name in os.listdir(map_dir):\n",
    "    map_list.append(map_name)\n",
    "\n",
    "for image_name in os.listdir(image_dir):\n",
    "    image_list.append(image_name)\n",
    "\n",
    "image_test = image_list[:250]\n",
    "image_val = image_list[250:]\n",
    "map_test = map_list[:250]\n",
    "map_val = map_list[250:]\n",
    "\n",
    "dataframe_test = pd.DataFrame({'X': image_test, 'Y': map_test})\n",
    "dataframe_val = pd.DataFrame({'X': image_val, 'Y': map_val})\n",
    "\n",
    "dataframe_test.to_csv(\"./dataset/type1_train.csv\", index=False, sep=',')\n",
    "dataframe_val.to_csv(\"./dataset/type1_val.csv\", index=False, sep=',')"
   ]
  }
 ],
 "metadata": {
  "language_info": {
   "name": "python"
  }
 },
 "nbformat": 4,
 "nbformat_minor": 2
}
